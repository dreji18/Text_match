{
 "cells": [
  {
   "cell_type": "markdown",
   "metadata": {},
   "source": [
    "# Text Matching for Analytes"
   ]
  },
  {
   "cell_type": "markdown",
   "metadata": {},
   "source": [
    "### This notebook details on a simple approach for text matching using Fuzzywuzzy package. It uses Levenshtein Distance to calculate the differences between sequences.\n",
    "https://en.wikipedia.org/wiki/Levenshtein_distance\n",
    "\n",
    "#### There are 4 way you can try text matching in Fuzzywuzzy.\n",
    "#### Simple Ratio, Partial Ratio, Token Sort Ratio, Token Set Ratio\n",
    "\n",
    "You can download and read more about Fuzzywuzzy from PyPI https://pypi.org/project/fuzzywuzzy/\n",
    "\n",
    "#### Install Fuzzywuzzy package - pip install fuzzywuzzy"
   ]
  },
  {
   "cell_type": "markdown",
   "metadata": {},
   "source": [
    "### Loading Packages"
   ]
  },
  {
   "cell_type": "code",
   "execution_count": 1,
   "metadata": {},
   "outputs": [],
   "source": [
    "import os\n",
    "import pandas as pd\n",
    "from fuzzywuzzy import fuzz\n",
    "os.chdir(r'C:\\Users\\rejid4996\\OneDrive - ARCADIS\\Arcadis Files\\Project Files\\text match')"
   ]
  },
  {
   "cell_type": "markdown",
   "metadata": {},
   "source": [
    "#os.chdir(r'xxx\\xxx\\xxx') # make sure you are on the path "
   ]
  },
  {
   "cell_type": "markdown",
   "metadata": {},
   "source": [
    "### Reading the data and converting into list"
   ]
  },
  {
   "cell_type": "code",
   "execution_count": 2,
   "metadata": {},
   "outputs": [],
   "source": [
    "df = pd.read_excel('compounds.xlsx')\n",
    "\n",
    "compounds1 = list(df.iloc[:, 0])\n",
    "compounds2 = list(df.iloc[:, 1])\n",
    "\n",
    "compounds1 = [x for x in compounds1 if str(x) != 'nan']\n",
    "compounds2 = [x for x in compounds2 if str(x) != 'nan']"
   ]
  },
  {
   "cell_type": "markdown",
   "metadata": {},
   "source": [
    "### Using Token sort ratio to match two column values"
   ]
  },
  {
   "cell_type": "code",
   "execution_count": 3,
   "metadata": {},
   "outputs": [],
   "source": [
    "compound1_match = []\n",
    "compound2_match = []\n",
    "for i in range(0, len(compounds1)):\n",
    "    str1 = compounds1[i]\n",
    "    for j in range(0, len(compounds2)):\n",
    "        str2 = compounds2[j]\n",
    "        Token_Sort_Ratio = fuzz.token_sort_ratio(str1,str2)\n",
    "        if Token_Sort_Ratio > 80:\n",
    "            compound1_match.append(compounds1[i])\n",
    "            compound2_match.append(compounds2[j])"
   ]
  },
  {
   "cell_type": "code",
   "execution_count": 4,
   "metadata": {},
   "outputs": [
    {
     "data": {
      "text/html": [
       "<div>\n",
       "<style scoped>\n",
       "    .dataframe tbody tr th:only-of-type {\n",
       "        vertical-align: middle;\n",
       "    }\n",
       "\n",
       "    .dataframe tbody tr th {\n",
       "        vertical-align: top;\n",
       "    }\n",
       "\n",
       "    .dataframe thead th {\n",
       "        text-align: right;\n",
       "    }\n",
       "</style>\n",
       "<table border=\"1\" class=\"dataframe\">\n",
       "  <thead>\n",
       "    <tr style=\"text-align: right;\">\n",
       "      <th></th>\n",
       "      <th>compound 1</th>\n",
       "      <th>compound 2</th>\n",
       "    </tr>\n",
       "  </thead>\n",
       "  <tbody>\n",
       "    <tr>\n",
       "      <th>0</th>\n",
       "      <td>Ethylbenzene</td>\n",
       "      <td>Ethylbenzene</td>\n",
       "    </tr>\n",
       "    <tr>\n",
       "      <th>1</th>\n",
       "      <td>n-Propylbenzene</td>\n",
       "      <td>Isopropylbenzene</td>\n",
       "    </tr>\n",
       "    <tr>\n",
       "      <th>2</th>\n",
       "      <td>Methylcyclohexane</td>\n",
       "      <td>Methylcyclohexane</td>\n",
       "    </tr>\n",
       "    <tr>\n",
       "      <th>3</th>\n",
       "      <td>Cyclohexane</td>\n",
       "      <td>Cyclohexane</td>\n",
       "    </tr>\n",
       "    <tr>\n",
       "      <th>4</th>\n",
       "      <td>1,3-Diethylbenzene</td>\n",
       "      <td>1,3-Dichlorobenzene</td>\n",
       "    </tr>\n",
       "    <tr>\n",
       "      <th>5</th>\n",
       "      <td>3-Pentanone, 2,4-dimethyl-</td>\n",
       "      <td>4-Methyl-2-pentanone (MIBK)</td>\n",
       "    </tr>\n",
       "    <tr>\n",
       "      <th>6</th>\n",
       "      <td>Cyclopropylbenzene</td>\n",
       "      <td>Isopropylbenzene</td>\n",
       "    </tr>\n",
       "    <tr>\n",
       "      <th>7</th>\n",
       "      <td>Isopropylbenzene</td>\n",
       "      <td>Isopropylbenzene</td>\n",
       "    </tr>\n",
       "  </tbody>\n",
       "</table>\n",
       "</div>"
      ],
      "text/plain": [
       "                   compound 1                   compound 2\n",
       "0                Ethylbenzene                 Ethylbenzene\n",
       "1             n-Propylbenzene             Isopropylbenzene\n",
       "2           Methylcyclohexane            Methylcyclohexane\n",
       "3                 Cyclohexane                  Cyclohexane\n",
       "4          1,3-Diethylbenzene          1,3-Dichlorobenzene\n",
       "5  3-Pentanone, 2,4-dimethyl-  4-Methyl-2-pentanone (MIBK)\n",
       "6          Cyclopropylbenzene             Isopropylbenzene\n",
       "7            Isopropylbenzene             Isopropylbenzene"
      ]
     },
     "execution_count": 4,
     "metadata": {},
     "output_type": "execute_result"
    }
   ],
   "source": [
    "match_df = pd.DataFrame({'compound 1':compound1_match, 'compound 2':compound2_match})\n",
    "match_df"
   ]
  },
  {
   "cell_type": "markdown",
   "metadata": {},
   "source": [
    "### Text Matching with HMNI"
   ]
  },
  {
   "cell_type": "markdown",
   "metadata": {},
   "source": [
    "#### HMNI is a library which use Fuzzy name matching with machine learning. For more details please check out Christopher Thornton's repository https://github.com/Christopher-Thornton/hmni"
   ]
  },
  {
   "cell_type": "markdown",
   "metadata": {},
   "source": [
    "pip install hmni # install the library"
   ]
  },
  {
   "cell_type": "code",
   "execution_count": null,
   "metadata": {},
   "outputs": [],
   "source": [
    "import hmni\n",
    "\n",
    "# Initialize a Matcher Object\n",
    "matcher = hmni.Matcher(model='latin')"
   ]
  },
  {
   "cell_type": "code",
   "execution_count": null,
   "metadata": {},
   "outputs": [],
   "source": [
    "df1 = pd.DataFrame({'name': ['Ethylbenzene', 'nPropylbenzene', 'Methylcyclohexane', 'Cyclopropylbenzene']})\n",
    "df2 = pd.DataFrame({'name': ['Ethylbenzene', 'Isopropylbenzane', 'Isopropylbenzene', 'Methylcyclohexene']})\n",
    "\n",
    "merged = matcher.fuzzymerge(df1, df2, how='left', on='name')"
   ]
  },
  {
   "attachments": {
    "image.png": {
     "image/png": "[encoded data removed]"
    }
   },
   "cell_type": "markdown",
   "metadata": {},
   "source": [
    "![image.png](attachment:image.png)"
   ]
  },
  {
   "cell_type": "code",
   "execution_count": null,
   "metadata": {},
   "outputs": [],
   "source": []
  }
 ],
 "metadata": {
  "kernelspec": {
   "display_name": "Python 3",
   "language": "python",
   "name": "python3"
  },
  "language_info": {
   "codemirror_mode": {
    "name": "ipython",
    "version": 3
   },
   "file_extension": ".py",
   "mimetype": "text/x-python",
   "name": "python",
   "nbconvert_exporter": "python",
   "pygments_lexer": "ipython3",
   "version": "3.7.4"
  }
 },
 "nbformat": 4,
 "nbformat_minor": 4
}
